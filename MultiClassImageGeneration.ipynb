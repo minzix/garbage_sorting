{
  "nbformat": 4,
  "nbformat_minor": 0,
  "metadata": {
    "colab": {
      "provenance": [],
      "include_colab_link": true
    },
    "kernelspec": {
      "name": "python3",
      "display_name": "Python 3"
    },
    "language_info": {
      "name": "python"
    }
  },
  "cells": [
    {
      "cell_type": "markdown",
      "metadata": {
        "id": "view-in-github",
        "colab_type": "text"
      },
      "source": [
        "<a href=\"https://colab.research.google.com/github/minzix/garbage_sorting/blob/main/MultiClassImageGeneration.ipynb\" target=\"_parent\"><img src=\"https://colab.research.google.com/assets/colab-badge.svg\" alt=\"Open In Colab\"/></a>"
      ]
    },
    {
      "cell_type": "code",
      "source": [
        "from google.colab import drive\n",
        "drive.mount('/content/drive')"
      ],
      "metadata": {
        "colab": {
          "base_uri": "https://localhost:8080/"
        },
        "id": "2l3DVrbJB3hj",
        "outputId": "0dfe5a6e-8559-4695-b3cf-a76483cbe8e4"
      },
      "execution_count": null,
      "outputs": [
        {
          "output_type": "stream",
          "name": "stdout",
          "text": [
            "Mounted at /content/drive\n"
          ]
        }
      ]
    },
    {
      "cell_type": "code",
      "source": [
        "import os\n",
        "import random\n",
        "from tqdm import tqdm\n",
        "from PIL import Image"
      ],
      "metadata": {
        "id": "WqIaLZizB1kq"
      },
      "execution_count": null,
      "outputs": []
    },
    {
      "cell_type": "markdown",
      "source": [
        "## 클래스별 이미지 개수 확인"
      ],
      "metadata": {
        "id": "YyWPlW43EFB2"
      }
    },
    {
      "cell_type": "code",
      "source": [
        "dataset = '/content/drive/MyDrive/2023-1_DL/Project/dataset_full/'"
      ],
      "metadata": {
        "id": "tBWG1qxDEE2J"
      },
      "execution_count": null,
      "outputs": []
    },
    {
      "cell_type": "code",
      "source": [
        "classes = ['cardboard', 'glass', 'metal', 'paper', 'plastic', 'trash']"
      ],
      "metadata": {
        "id": "F1U2zTEmHwcF"
      },
      "execution_count": null,
      "outputs": []
    },
    {
      "cell_type": "code",
      "source": [
        "sum = 0\n",
        "\n",
        "for i in classes:\n",
        "  file_list = os.listdir(dataset + i)\n",
        "  file_count = len(file_list)\n",
        "  sum += file_count\n",
        "  print(i + ': ' + str(file_count))\n",
        "\n",
        "if sum % 2 == 0:\n",
        "  print(sum, 'isEven')\n",
        "else: print(sum, 'isOdd')"
      ],
      "metadata": {
        "colab": {
          "base_uri": "https://localhost:8080/"
        },
        "id": "RKM2DW86HcnF",
        "outputId": "fb4fbe2a-575f-4c3f-d4f6-eec485de8f5b"
      },
      "execution_count": null,
      "outputs": [
        {
          "output_type": "stream",
          "name": "stdout",
          "text": [
            "cardboard: 412\n",
            "glass: 501\n",
            "metal: 410\n",
            "paper: 594\n",
            "plastic: 482\n",
            "trash: 137\n",
            "2536 isEven\n"
          ]
        }
      ]
    },
    {
      "cell_type": "code",
      "source": [
        "save_path = '/content/drive/MyDrive/2023_DeepLearning/dataset_merged/'"
      ],
      "metadata": {
        "id": "OYtsYg8zWfKg"
      },
      "execution_count": null,
      "outputs": []
    },
    {
      "cell_type": "markdown",
      "source": [
        "## 합성"
      ],
      "metadata": {
        "id": "KiOCHGw8VOMh"
      }
    },
    {
      "cell_type": "code",
      "source": [
        "for i in tqdm(range(5000)):\n",
        "  # 폴더 2개 randomly 선택\n",
        "  rand_class = random.sample(classes, 2)\n",
        "  first_folder, second_folder = rand_class[0], rand_class[1]\n",
        "\n",
        "  # 각 폴더에서 이미지 1개 randomly 선택\n",
        "  first_image = random.choice(os.listdir(dataset + first_folder))\n",
        "  second_image = random.choice(os.listdir(dataset + second_folder))\n",
        "\n",
        "  first_path = dataset + first_folder + '/' + first_image\n",
        "  second_path = dataset + second_folder + '/' + second_image\n",
        "\n",
        "  # 합성\n",
        "  image1 = Image.open(first_path)\n",
        "  image2 = Image.open(second_path)\n",
        "\n",
        "  image1_size = image1.size\n",
        "  image2_size = image2.size\n",
        "\n",
        "  new_image = Image.new('RGB', (2*image1_size[0], image1_size[1]), (250,250,250))\n",
        "  new_image.paste(image1, (0,0))\n",
        "  new_image.paste(image2, (image1_size[0],0))\n",
        "  name = first_folder + '+' + second_folder + '_' + str(i) + \".jpg\"\n",
        "  new_image.save(save_path+name, \"JPEG\")"
      ],
      "metadata": {
        "colab": {
          "base_uri": "https://localhost:8080/"
        },
        "id": "ypIu4tRLVGhm",
        "outputId": "2b120942-8fca-440a-d5f8-4d96c0ff9820"
      },
      "execution_count": null,
      "outputs": [
        {
          "output_type": "stream",
          "name": "stderr",
          "text": [
            "100%|██████████| 5000/5000 [05:41<00:00, 14.63it/s]\n"
          ]
        }
      ]
    }
  ]
}