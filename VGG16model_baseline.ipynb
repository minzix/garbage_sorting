{
  "cells": [
    {
      "cell_type": "markdown",
      "metadata": {
        "id": "view-in-github",
        "colab_type": "text"
      },
      "source": [
        "<a href=\"https://colab.research.google.com/github/minzix/garbage_sorting/blob/main/VGG16model_baseline.ipynb\" target=\"_parent\"><img src=\"https://colab.research.google.com/assets/colab-badge.svg\" alt=\"Open In Colab\"/></a>"
      ]
    },
    {
      "cell_type": "code",
      "execution_count": null,
      "metadata": {
        "colab": {
          "base_uri": "https://localhost:8080/"
        },
        "id": "HcWcIE67tcm3",
        "outputId": "7939d440-02cd-41f1-f528-ed9a915e1859"
      },
      "outputs": [
        {
          "name": "stdout",
          "output_type": "stream",
          "text": [
            "Mounted at /gdrive\n"
          ]
        }
      ],
      "source": [
        "from google.colab import drive\n",
        "drive.mount('/gdrive')"
      ]
    },
    {
      "cell_type": "code",
      "execution_count": null,
      "metadata": {
        "colab": {
          "base_uri": "https://localhost:8080/"
        },
        "id": "JeqRqNLGuFMU",
        "outputId": "7b1416e8-df00-492c-a91d-6537f8eacb49"
      },
      "outputs": [
        {
          "name": "stdout",
          "output_type": "stream",
          "text": [
            "sample_data\n",
            " dataset\n",
            " DenseNet.ipynb\n",
            "'DL23-Lab3-pytorch_nn_autograd.ipynb의 사본'\n",
            " EfficientNet.ipynb\n",
            " numpy_inflearn.ipynb\n",
            "'quickstart_tutorial.ipynb의 사본'\n",
            "'SMWU-2023-DL-Lab1-pytorch101.ipynb의 사본'\n",
            "'SMWU-2023-DL-Lab2-FC_class.ipynb의 사본'\n",
            " Untitled0.ipynb\n",
            " VGG16model.ipynb\n"
          ]
        }
      ],
      "source": [
        "!ls\n",
        "!ls \"/gdrive/My Drive/ColabNotebooks/\""
      ]
    },
    {
      "cell_type": "code",
      "execution_count": null,
      "metadata": {
        "colab": {
          "base_uri": "https://localhost:8080/"
        },
        "id": "sElrtvEbuJFV",
        "outputId": "a70befc7-9b92-4df5-9fda-431bd4c5c23d"
      },
      "outputs": [
        {
          "name": "stdout",
          "output_type": "stream",
          "text": [
            "전처리된 이미지 데이터 크기: (1515, 224, 224, 3)\n"
          ]
        }
      ],
      "source": [
        "import os\n",
        "import numpy as np\n",
        "from PIL import Image\n",
        "\n",
        "# 데이터셋 디렉토리 경로\n",
        "dataset_dir = '/gdrive/My Drive/ColabNotebooks/dataset'\n",
        "\n",
        "# 이미지 전처리 함수\n",
        "def preprocess_image(image_path):\n",
        "    # 이미지 불러오기\n",
        "    image = Image.open(image_path)\n",
        "\n",
        "    # 이미지 크기 조정\n",
        "    image = image.resize((224, 224))  # 원하는 크기로 조정\n",
        "\n",
        "    # 이미지를 numpy 배열로 변환\n",
        "    image_array = np.array(image)\n",
        "\n",
        "    # 전처리된 이미지 반환\n",
        "    return image_array\n",
        "\n",
        "# 클래스 레이블과 해당 폴더의 이미지 경로 가져오기\n",
        "class_labels = ['cardboard', 'glass', 'metal', 'paper', 'plastic', 'trash']\n",
        "image_paths = []\n",
        "\n",
        "for label in class_labels:\n",
        "    folder_path = os.path.join(dataset_dir, 'train', label)\n",
        "    images = os.listdir(folder_path)\n",
        "    images = [os.path.join(folder_path, image) for image in images]\n",
        "    image_paths.extend(images)\n",
        "\n",
        "# 이미지 데이터 전처리\n",
        "preprocessed_images = []\n",
        "\n",
        "for image_path in image_paths:\n",
        "    preprocessed_image = preprocess_image(image_path)\n",
        "    preprocessed_images.append(preprocessed_image)\n",
        "\n",
        "# 전처리된 이미지 데이터를 사용하여 추가적인 처리를 수행할 수 있습니다.\n",
        "# 예를 들어, 전처리된 이미지 데이터를 NumPy 배열로 변환하여 모델에 입력으로 사용할 수 있습니다.\n",
        "preprocessed_images = np.array(preprocessed_images)\n",
        "\n",
        "# 전처리된 이미지 데이터의 크기 확인\n",
        "print('전처리된 이미지 데이터 크기:', preprocessed_images.shape)\n",
        "\n"
      ]
    },
    {
      "cell_type": "code",
      "execution_count": null,
      "metadata": {
        "colab": {
          "base_uri": "https://localhost:8080/"
        },
        "id": "07HHt5gP8axT",
        "outputId": "013fc0c8-7f6d-4b23-be1b-3b76ff7af947"
      },
      "outputs": [
        {
          "name": "stdout",
          "output_type": "stream",
          "text": [
            "Looking in indexes: https://pypi.org/simple, https://us-python.pkg.dev/colab-wheels/public/simple/\n",
            "Requirement already satisfied: tensorflow in /usr/local/lib/python3.10/dist-packages (2.12.0)\n",
            "Requirement already satisfied: absl-py>=1.0.0 in /usr/local/lib/python3.10/dist-packages (from tensorflow) (1.4.0)\n",
            "Requirement already satisfied: astunparse>=1.6.0 in /usr/local/lib/python3.10/dist-packages (from tensorflow) (1.6.3)\n",
            "Requirement already satisfied: flatbuffers>=2.0 in /usr/local/lib/python3.10/dist-packages (from tensorflow) (23.3.3)\n",
            "Requirement already satisfied: gast<=0.4.0,>=0.2.1 in /usr/local/lib/python3.10/dist-packages (from tensorflow) (0.4.0)\n",
            "Requirement already satisfied: google-pasta>=0.1.1 in /usr/local/lib/python3.10/dist-packages (from tensorflow) (0.2.0)\n",
            "Requirement already satisfied: grpcio<2.0,>=1.24.3 in /usr/local/lib/python3.10/dist-packages (from tensorflow) (1.54.0)\n",
            "Requirement already satisfied: h5py>=2.9.0 in /usr/local/lib/python3.10/dist-packages (from tensorflow) (3.8.0)\n",
            "Requirement already satisfied: jax>=0.3.15 in /usr/local/lib/python3.10/dist-packages (from tensorflow) (0.4.8)\n",
            "Requirement already satisfied: keras<2.13,>=2.12.0 in /usr/local/lib/python3.10/dist-packages (from tensorflow) (2.12.0)\n",
            "Requirement already satisfied: libclang>=13.0.0 in /usr/local/lib/python3.10/dist-packages (from tensorflow) (16.0.0)\n",
            "Requirement already satisfied: numpy<1.24,>=1.22 in /usr/local/lib/python3.10/dist-packages (from tensorflow) (1.22.4)\n",
            "Requirement already satisfied: opt-einsum>=2.3.2 in /usr/local/lib/python3.10/dist-packages (from tensorflow) (3.3.0)\n",
            "Requirement already satisfied: packaging in /usr/local/lib/python3.10/dist-packages (from tensorflow) (23.1)\n",
            "Requirement already satisfied: protobuf!=4.21.0,!=4.21.1,!=4.21.2,!=4.21.3,!=4.21.4,!=4.21.5,<5.0.0dev,>=3.20.3 in /usr/local/lib/python3.10/dist-packages (from tensorflow) (3.20.3)\n",
            "Requirement already satisfied: setuptools in /usr/local/lib/python3.10/dist-packages (from tensorflow) (67.7.2)\n",
            "Requirement already satisfied: six>=1.12.0 in /usr/local/lib/python3.10/dist-packages (from tensorflow) (1.16.0)\n",
            "Requirement already satisfied: tensorboard<2.13,>=2.12 in /usr/local/lib/python3.10/dist-packages (from tensorflow) (2.12.2)\n",
            "Requirement already satisfied: tensorflow-estimator<2.13,>=2.12.0 in /usr/local/lib/python3.10/dist-packages (from tensorflow) (2.12.0)\n",
            "Requirement already satisfied: termcolor>=1.1.0 in /usr/local/lib/python3.10/dist-packages (from tensorflow) (2.3.0)\n",
            "Requirement already satisfied: typing-extensions>=3.6.6 in /usr/local/lib/python3.10/dist-packages (from tensorflow) (4.5.0)\n",
            "Requirement already satisfied: wrapt<1.15,>=1.11.0 in /usr/local/lib/python3.10/dist-packages (from tensorflow) (1.14.1)\n",
            "Requirement already satisfied: tensorflow-io-gcs-filesystem>=0.23.1 in /usr/local/lib/python3.10/dist-packages (from tensorflow) (0.32.0)\n",
            "Requirement already satisfied: wheel<1.0,>=0.23.0 in /usr/local/lib/python3.10/dist-packages (from astunparse>=1.6.0->tensorflow) (0.40.0)\n",
            "Requirement already satisfied: ml-dtypes>=0.0.3 in /usr/local/lib/python3.10/dist-packages (from jax>=0.3.15->tensorflow) (0.1.0)\n",
            "Requirement already satisfied: scipy>=1.7 in /usr/local/lib/python3.10/dist-packages (from jax>=0.3.15->tensorflow) (1.10.1)\n",
            "Requirement already satisfied: google-auth<3,>=1.6.3 in /usr/local/lib/python3.10/dist-packages (from tensorboard<2.13,>=2.12->tensorflow) (2.17.3)\n",
            "Requirement already satisfied: google-auth-oauthlib<1.1,>=0.5 in /usr/local/lib/python3.10/dist-packages (from tensorboard<2.13,>=2.12->tensorflow) (1.0.0)\n",
            "Requirement already satisfied: markdown>=2.6.8 in /usr/local/lib/python3.10/dist-packages (from tensorboard<2.13,>=2.12->tensorflow) (3.4.3)\n",
            "Requirement already satisfied: requests<3,>=2.21.0 in /usr/local/lib/python3.10/dist-packages (from tensorboard<2.13,>=2.12->tensorflow) (2.27.1)\n",
            "Requirement already satisfied: tensorboard-data-server<0.8.0,>=0.7.0 in /usr/local/lib/python3.10/dist-packages (from tensorboard<2.13,>=2.12->tensorflow) (0.7.0)\n",
            "Requirement already satisfied: tensorboard-plugin-wit>=1.6.0 in /usr/local/lib/python3.10/dist-packages (from tensorboard<2.13,>=2.12->tensorflow) (1.8.1)\n",
            "Requirement already satisfied: werkzeug>=1.0.1 in /usr/local/lib/python3.10/dist-packages (from tensorboard<2.13,>=2.12->tensorflow) (2.3.0)\n",
            "Requirement already satisfied: cachetools<6.0,>=2.0.0 in /usr/local/lib/python3.10/dist-packages (from google-auth<3,>=1.6.3->tensorboard<2.13,>=2.12->tensorflow) (5.3.0)\n",
            "Requirement already satisfied: pyasn1-modules>=0.2.1 in /usr/local/lib/python3.10/dist-packages (from google-auth<3,>=1.6.3->tensorboard<2.13,>=2.12->tensorflow) (0.3.0)\n",
            "Requirement already satisfied: rsa<5,>=3.1.4 in /usr/local/lib/python3.10/dist-packages (from google-auth<3,>=1.6.3->tensorboard<2.13,>=2.12->tensorflow) (4.9)\n",
            "Requirement already satisfied: requests-oauthlib>=0.7.0 in /usr/local/lib/python3.10/dist-packages (from google-auth-oauthlib<1.1,>=0.5->tensorboard<2.13,>=2.12->tensorflow) (1.3.1)\n",
            "Requirement already satisfied: urllib3<1.27,>=1.21.1 in /usr/local/lib/python3.10/dist-packages (from requests<3,>=2.21.0->tensorboard<2.13,>=2.12->tensorflow) (1.26.15)\n",
            "Requirement already satisfied: certifi>=2017.4.17 in /usr/local/lib/python3.10/dist-packages (from requests<3,>=2.21.0->tensorboard<2.13,>=2.12->tensorflow) (2022.12.7)\n",
            "Requirement already satisfied: charset-normalizer~=2.0.0 in /usr/local/lib/python3.10/dist-packages (from requests<3,>=2.21.0->tensorboard<2.13,>=2.12->tensorflow) (2.0.12)\n",
            "Requirement already satisfied: idna<4,>=2.5 in /usr/local/lib/python3.10/dist-packages (from requests<3,>=2.21.0->tensorboard<2.13,>=2.12->tensorflow) (3.4)\n",
            "Requirement already satisfied: MarkupSafe>=2.1.1 in /usr/local/lib/python3.10/dist-packages (from werkzeug>=1.0.1->tensorboard<2.13,>=2.12->tensorflow) (2.1.2)\n",
            "Requirement already satisfied: pyasn1<0.6.0,>=0.4.6 in /usr/local/lib/python3.10/dist-packages (from pyasn1-modules>=0.2.1->google-auth<3,>=1.6.3->tensorboard<2.13,>=2.12->tensorflow) (0.5.0)\n",
            "Requirement already satisfied: oauthlib>=3.0.0 in /usr/local/lib/python3.10/dist-packages (from requests-oauthlib>=0.7.0->google-auth-oauthlib<1.1,>=0.5->tensorboard<2.13,>=2.12->tensorflow) (3.2.2)\n"
          ]
        }
      ],
      "source": [
        "!pip install tensorflow"
      ]
    },
    {
      "cell_type": "code",
      "execution_count": null,
      "metadata": {
        "colab": {
          "background_save": true,
          "base_uri": "https://localhost:8080/"
        },
        "id": "G7Zt1F5Zk4DW",
        "outputId": "5a769142-08de-4815-d1d7-c5dd8e9e364e"
      },
      "outputs": [
        {
          "name": "stdout",
          "output_type": "stream",
          "text": [
            "Downloading data from https://storage.googleapis.com/tensorflow/keras-applications/vgg16/vgg16_weights_tf_dim_ordering_tf_kernels_notop.h5\n",
            "58889256/58889256 [==============================] - 0s 0us/step\n",
            "Epoch 1/10\n",
            "29/29 [==============================] - 2257s 78s/step - loss: 36.1922 - accuracy: 0.1848 - val_loss: 1.8221 - val_accuracy: 0.2409\n",
            "Epoch 2/10\n",
            "29/29 [==============================] - 2257s 78s/step - loss: 1.9529 - accuracy: 0.2354 - val_loss: 1.6978 - val_accuracy: 0.2013\n",
            "Epoch 3/10\n",
            "29/29 [==============================] - 2188s 76s/step - loss: 1.7115 - accuracy: 0.2530 - val_loss: 1.7244 - val_accuracy: 0.2211\n",
            "Epoch 4/10\n",
            "29/29 [==============================] - 2167s 75s/step - loss: 1.6476 - accuracy: 0.2992 - val_loss: 1.6129 - val_accuracy: 0.2970\n",
            "Epoch 5/10\n",
            "29/29 [==============================] - 2160s 75s/step - loss: 1.6160 - accuracy: 0.3190 - val_loss: 1.6189 - val_accuracy: 0.3267\n",
            "Epoch 6/10\n",
            "26/29 [=========================>....] - ETA: 3:25 - loss: 1.6054 - accuracy: 0.3065"
          ]
        }
      ],
      "source": [
        "import os\n",
        "import numpy as np\n",
        "from PIL import Image\n",
        "from tensorflow.keras.applications.vgg16 import VGG16\n",
        "from tensorflow.keras.preprocessing import image\n",
        "from tensorflow.keras.applications.vgg16 import preprocess_input\n",
        "from tensorflow.keras.models import Sequential\n",
        "from tensorflow.keras.layers import Dense, Flatten\n",
        "from sklearn.model_selection import train_test_split\n",
        "from tensorflow.keras.utils import to_categorical\n",
        "\n",
        "# 데이터셋 디렉토리 경로\n",
        "dataset_dir = '/gdrive/My Drive/ColabNotebooks/dataset'\n",
        "\n",
        "# 이미지 전처리 함수\n",
        "def preprocess_image(image_path):\n",
        "    # 이미지 불러오기\n",
        "    image = Image.open(image_path)\n",
        "\n",
        "    # 이미지 크기 조정\n",
        "    image = image.resize((224, 224))\n",
        "    image_array = np.array(image)\n",
        "    return image_array\n",
        "\n",
        "# 클래스 레이블과 해당 폴더의 이미지 경로 가져오기\n",
        "class_labels = ['cardboard', 'glass', 'metal', 'paper', 'plastic', 'trash']\n",
        "image_paths = []\n",
        "labels = []\n",
        "\n",
        "for label_idx, label in enumerate(class_labels):\n",
        "    folder_path = os.path.join(dataset_dir, 'train', label)\n",
        "    images = os.listdir(folder_path)\n",
        "    images = [os.path.join(folder_path, image) for image in images]\n",
        "    image_paths.extend(images)\n",
        "    labels.extend([label_idx] * len(images))\n",
        "\n",
        "# 이미지 데이터 전처리\n",
        "preprocessed_images = []\n",
        "\n",
        "for image_path in image_paths:\n",
        "    preprocessed_image = preprocess_image(image_path)\n",
        "    preprocessed_images.append(preprocessed_image)\n",
        "\n",
        "# 전처리된 이미지 데이터를 NumPy 배열로 변환\n",
        "preprocessed_images = np.array(preprocessed_images)\n",
        "\n",
        "# 레이블을 One-Hot 인코딩\n",
        "labels = to_categorical(labels)\n",
        "\n",
        "# train-validation-test 분할\n",
        "train_images, test_images, train_labels, test_labels = train_test_split(preprocessed_images, labels, test_size=0.2, random_state=42)\n",
        "train_images, val_images, train_labels, val_labels = train_test_split(train_images, train_labels, test_size=0.25, random_state=42)  # train 데이터의 0.25를 validation 데이터로 사용\n",
        "\n",
        "# VGG16 모델 불러오기\n",
        "base_model = VGG16(weights='imagenet', include_top=False, input_shape=(224, 224, 3))\n",
        "\n",
        "# VGG16 모델의 출력 위에 추가적인 레이어 쌓기\n",
        "model = Sequential()\n",
        "model.add(base_model)\n",
        "model.add(Flatten())\n",
        "model.add(Dense(256, activation='relu'))\n",
        "model.add(Dense(6, activation='softmax'))\n",
        "\n",
        "# 모델 컴파일\n",
        "model.compile(loss='categorical_crossentropy', optimizer='adam', metrics=['accuracy'])\n",
        "\n",
        "# 모델 학습\n",
        "model.fit(train_images, train_labels, validation_data=(val_images, val_labels), epochs=10, batch_size=32)\n",
        "\n",
        "# 테스트 이미지 경로\n",
        "test_image_path = '/gdrive/My Drive/ColabNotebooks/dataset/test'\n"
      ]
    }
  ],
  "metadata": {
    "colab": {
      "provenance": [],
      "authorship_tag": "ABX9TyN/tk/nobGBNG4y9VgjuiBp",
      "include_colab_link": true
    },
    "kernelspec": {
      "display_name": "Python 3",
      "name": "python3"
    },
    "language_info": {
      "name": "python"
    }
  },
  "nbformat": 4,
  "nbformat_minor": 0
}